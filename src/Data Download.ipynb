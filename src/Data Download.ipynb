{
 "cells": [
  {
   "cell_type": "code",
   "execution_count": null,
   "id": "b1f0add7-9816-4c3f-8b7f-a5b3c39d335b",
   "metadata": {},
   "outputs": [],
   "source": [
    "import pydicom\n",
    "import pandas as pd\n",
    "import os\n",
    "import random\n",
    "import subprocess"
   ]
  },
  {
   "cell_type": "code",
   "execution_count": null,
   "id": "a26f0474-015b-435d-84fd-ce8f39b9414f",
   "metadata": {},
   "outputs": [],
   "source": [
    "df = pd.read_csv(\"./rsna_data/train.csv\")"
   ]
  },
  {
   "cell_type": "code",
   "execution_count": null,
   "id": "2c267a81-1962-466b-bc43-4f72de408001",
   "metadata": {},
   "outputs": [],
   "source": [
    "df.tail()"
   ]
  },
  {
   "cell_type": "code",
   "execution_count": null,
   "id": "138ab1c9-18e0-4e4d-98d8-5df4f7dde84b",
   "metadata": {},
   "outputs": [],
   "source": [
    "# Select mixed PE present and absent images \n",
    "df_filtered = df[(df['pe_present_on_image'] == 0) | (df['pe_present_on_image'] == 1)] \n",
    "\n",
    "# Exclude indeterminate studies\n",
    "df_filtered = df_filtered[df_filtered['indeterminate'] == 0]  \n",
    "\n",
    "# Select roughly 7279 / 20 studies\n",
    "num_studies_to_select = 7279 // 20  # Integer division for rough count\n",
    "selected_studies = random.sample(df_filtered['StudyInstanceUID'].unique().tolist(), num_studies_to_select)\n",
    "\n",
    "# Build a filter condition for the Kaggle download\n",
    "filter_condition = \"StudyInstanceUID in ('\" + \"', '\".join(selected_studies) + \"')\" "
   ]
  },
  {
   "cell_type": "code",
   "execution_count": null,
   "id": "89bbcf10-4380-4504-95f9-9b2115b7d7bc",
   "metadata": {},
   "outputs": [],
   "source": [
    "# Configure API (place the correct path to your downloaded 'kaggle.json')\n",
    "os.environ['KAGGLE_CONFIG_DIR'] = \"~/.kaggle\""
   ]
  },
  {
   "cell_type": "code",
   "execution_count": null,
   "id": "cc7190a1-1397-4d23-a5c4-9f0ea0e2177d",
   "metadata": {},
   "outputs": [],
   "source": [
    "i =0\n",
    "for study_id in selected_studies:\n",
    "    print(study_id)\n",
    "    print(i)\n",
    "    i+=1\n",
    "    study_id = \"*/\"+study_id+\"/*\"\n",
    "    unzip_command = f\"! /usr/bin/unzip -o /mnt/data/rsna-str-pulmonary-embolism-detection.zip '{study_id}'\"  \n",
    "    subprocess.run(unzip_command, shell=True, check=True)\n",
    "    move_command = \"cp -R ~/train/ /mnt/data/filtered_data/train/\"\n",
    "    clean_command = \"rm -R ~/train/\"\n",
    "    subprocess.run(move_command, shell=True, check=True)\n",
    "    subprocess.run(clean_command, shell=True, check=True)\n"
   ]
  },
  {
   "cell_type": "code",
   "execution_count": null,
   "id": "e8c65684-a890-4795-9c81-42cd247619a4",
   "metadata": {},
   "outputs": [],
   "source": [
    "len(selected_studies)"
   ]
  },
  {
   "cell_type": "code",
   "execution_count": null,
   "id": "2ab4bf19-1a76-4616-b709-670088eb54fb",
   "metadata": {},
   "outputs": [],
   "source": [
    "! /usr/bin/unzip /mnt/data/rsna-str-pulmonary-embolism-detection.zip '*/ffa79a545c36/2eabc1fb8f2b/*'"
   ]
  },
  {
   "cell_type": "code",
   "execution_count": null,
   "id": "228e4fdb-6e69-471f-8dc3-f4a15187fff4",
   "metadata": {},
   "outputs": [],
   "source": [
    "study_id = \"*/ffa79a545c36/*\"\n",
    "unzip_command = f\"! /usr/bin/unzip -o /mnt/data/rsna-str-pulmonary-embolism-detection.zip '{study_id}'\"  \n",
    "subprocess.run(unzip_command, shell=True, check=True)"
   ]
  },
  {
   "cell_type": "code",
   "execution_count": null,
   "id": "96c8599d-699e-4448-835e-1f28c0201905",
   "metadata": {},
   "outputs": [],
   "source": [
    "#selected_studies\n",
    "space_separated_string = \" \".join(selected_studies)\n",
    "print(space_separated_string)"
   ]
  },
  {
   "cell_type": "code",
   "execution_count": null,
   "id": "9765dca6-8bd5-4480-b89a-3c604b6f2b34",
   "metadata": {},
   "outputs": [],
   "source": [
    "len(selected_studies)"
   ]
  },
  {
   "cell_type": "code",
   "execution_count": null,
   "id": "7306fcb8-ea9d-4f67-8e99-8ca19c71d6f7",
   "metadata": {},
   "outputs": [],
   "source": []
  }
 ],
 "metadata": {
  "kernelspec": {
   "display_name": "Python 3 (ipykernel)",
   "language": "python",
   "name": "python3"
  },
  "language_info": {
   "codemirror_mode": {
    "name": "ipython",
    "version": 3
   },
   "file_extension": ".py",
   "mimetype": "text/x-python",
   "name": "python",
   "nbconvert_exporter": "python",
   "pygments_lexer": "ipython3",
   "version": "3.8.10"
  }
 },
 "nbformat": 4,
 "nbformat_minor": 5
}
