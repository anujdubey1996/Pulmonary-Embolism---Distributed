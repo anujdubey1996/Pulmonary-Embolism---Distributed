{
 "cells": [
  {
   "cell_type": "code",
   "execution_count": 30,
   "id": "3b35e071-8cc1-4661-856b-b2df95021995",
   "metadata": {},
   "outputs": [],
   "source": [
    "import pydicom\n",
    "import pandas as pd\n",
    "import os"
   ]
  },
  {
   "cell_type": "code",
   "execution_count": 40,
   "id": "eac16318-f55b-4a49-9cdc-4f26a370dbfa",
   "metadata": {},
   "outputs": [],
   "source": [
    "\n",
    "class DICOMLoader():  # Renamed for clarity\n",
    "    def __init__(self, data_dir, labels_csv,selected_studies):\n",
    "        self.data_dir = data_dir\n",
    "        df = pd.read_csv(labels_csv)  \n",
    "        df = df[df['StudyInstanceUID'].isin(selected_studies)]\n",
    "        self.df = df  \n",
    "        self.selected_studies = selected_studies\n",
    "    def load_images(self, idx):\n",
    "        images = []\n",
    "        #print(self.df.shape)\n",
    "        #self.df = self.df[self.df['StudyInstanceUID'].isin(self.selected_studies)]\n",
    "        #print(self.df.shape)\n",
    "        for sop_uid in self.df['SOPInstanceUID']: \n",
    "            image_path = os.path.join(self.data_dir, self.df.iloc[idx]['StudyInstanceUID'], \n",
    "                                      self.df.iloc[idx]['SeriesInstanceUID'], sop_uid + '.dcm')\n",
    "\n",
    "            try:\n",
    "                print(image_path)\n",
    "                ds = pydicom.dcmread(image_path)\n",
    "                image = ds.pixel_array\n",
    "                images.append(image)\n",
    "            except:\n",
    "                ;\n",
    "\n",
    "        return images "
   ]
  },
  {
   "cell_type": "code",
   "execution_count": 41,
   "id": "c38b94b9-a637-46b2-97a6-ad9351b74457",
   "metadata": {},
   "outputs": [],
   "source": [
    "import os\n",
    "\n",
    "# Directory path\n",
    "directory_path = '/mnt/data/filtered_data/train/train'\n",
    "\n",
    "# List all files in the directory\n",
    "files = os.listdir(directory_path)\n",
    "\n",
    "#files"
   ]
  },
  {
   "cell_type": "code",
   "execution_count": 42,
   "id": "90d096a5-de82-4547-a030-da83a97f1fa3",
   "metadata": {},
   "outputs": [
    {
     "name": "stdout",
     "output_type": "stream",
     "text": [
      "/mnt/data/filtered_data/train/train/1d0ca5708b86/a2fd3502bdc9/0.dcm\n",
      "/mnt/data/filtered_data/train/train/1d0ca5708b86/a2fd3502bdc9/7.dcm\n",
      "/mnt/data/filtered_data/train/train/1d0ca5708b86/a2fd3502bdc9/b.dcm\n",
      "/mnt/data/filtered_data/train/train/1d0ca5708b86/a2fd3502bdc9/9.dcm\n",
      "/mnt/data/filtered_data/train/train/1d0ca5708b86/a2fd3502bdc9/c.dcm\n",
      "/mnt/data/filtered_data/train/train/1d0ca5708b86/a2fd3502bdc9/0.dcm\n",
      "/mnt/data/filtered_data/train/train/1d0ca5708b86/a2fd3502bdc9/d.dcm\n",
      "/mnt/data/filtered_data/train/train/1d0ca5708b86/a2fd3502bdc9/8.dcm\n",
      "/mnt/data/filtered_data/train/train/1d0ca5708b86/a2fd3502bdc9/2.dcm\n",
      "/mnt/data/filtered_data/train/train/1d0ca5708b86/a2fd3502bdc9/d.dcm\n",
      "/mnt/data/filtered_data/train/train/1d0ca5708b86/a2fd3502bdc9/0.dcm\n",
      "/mnt/data/filtered_data/train/train/1d0ca5708b86/a2fd3502bdc9/a.dcm\n",
      "0\n"
     ]
    }
   ],
   "source": [
    "\n",
    "# Example Usage\n",
    "loader = DICOMLoader(\"/mnt/data/filtered_data/train/train\", \"rsna_data/train.csv\", files)  # Adjusted data directory\n",
    "\n",
    "# Load images for the first row in your CSV\n",
    "images = loader.load_images(0) \n",
    "\n",
    "# Do something with the images (visualization, preprocessing, etc.)\n",
    "print(len(images))   # Check how many images were loaded\n"
   ]
  },
  {
   "cell_type": "code",
   "execution_count": null,
   "id": "cd57ec04-a1ab-4d80-acf3-ead279a5e5dd",
   "metadata": {},
   "outputs": [],
   "source": []
  }
 ],
 "metadata": {
  "kernelspec": {
   "display_name": "Python 3 (ipykernel)",
   "language": "python",
   "name": "python3"
  },
  "language_info": {
   "codemirror_mode": {
    "name": "ipython",
    "version": 3
   },
   "file_extension": ".py",
   "mimetype": "text/x-python",
   "name": "python",
   "nbconvert_exporter": "python",
   "pygments_lexer": "ipython3",
   "version": "3.8.10"
  }
 },
 "nbformat": 4,
 "nbformat_minor": 5
}
